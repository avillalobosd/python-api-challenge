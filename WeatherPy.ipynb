{
 "cells": [
  {
   "cell_type": "markdown",
   "metadata": {},
   "source": [
    "# WeatherPy\n",
    "----\n",
    "\n",
    "#### Note\n",
    "* Instructions have been included for each segment. You do not have to follow them exactly, but they are included to help you think through the steps."
   ]
  },
  {
   "cell_type": "code",
   "execution_count": 1,
   "metadata": {
    "scrolled": true
   },
   "outputs": [],
   "source": [
    "# Dependencies and Setup\n",
    "import matplotlib.pyplot as plt\n",
    "import pandas as pd\n",
    "import numpy as np\n",
    "import requests\n",
    "import time\n",
    "from scipy.stats import linregress\n",
    "\n",
    "# Import API key\n",
    "from api_keys import weather_api_key\n",
    "\n",
    "# Incorporated citipy to determine city based on latitude and longitude\n",
    "from citipy import citipy\n",
    "\n",
    "# Output File (CSV)\n",
    "output_data_file = \"output_data/cities.csv\"\n",
    "\n",
    "# Range of latitudes and longitudes\n",
    "lat_range = (-90, 90)\n",
    "lng_range = (-180, 180)"
   ]
  },
  {
   "cell_type": "markdown",
   "metadata": {},
   "source": [
    "## Generate Cities List"
   ]
  },
  {
   "cell_type": "code",
   "execution_count": 2,
   "metadata": {},
   "outputs": [
    {
     "data": {
      "text/plain": [
       "630"
      ]
     },
     "execution_count": 2,
     "metadata": {},
     "output_type": "execute_result"
    }
   ],
   "source": [
    "# List for holding lat_lngs and cities\n",
    "lat_lngs = []\n",
    "cities = []\n",
    "\n",
    "# Create a set of random lat and lng combinations\n",
    "lats = np.random.uniform(low=-90.000, high=90.000, size=1500)\n",
    "lngs = np.random.uniform(low=-180.000, high=180.000, size=1500)\n",
    "lat_lngs = zip(lats, lngs)\n",
    "\n",
    "# Identify nearest city for each lat, lng combination\n",
    "for lat_lng in lat_lngs:\n",
    "    city = citipy.nearest_city(lat_lng[0], lat_lng[1]).city_name\n",
    "    \n",
    "    # If the city is unique, then add it to a our cities list\n",
    "    if city not in cities:\n",
    "        cities.append(city)\n",
    "\n",
    "# Print the city count to confirm sufficient count\n",
    "len(cities)"
   ]
  },
  {
   "cell_type": "markdown",
   "metadata": {},
   "source": [
    "### Perform API Calls\n",
    "* Perform a weather check on each city using a series of successive API calls.\n",
    "* Include a print log of each city as it'sbeing processed (with the city number and city name).\n"
   ]
  },
  {
   "cell_type": "code",
   "execution_count": 74,
   "metadata": {},
   "outputs": [
    {
     "name": "stdout",
     "output_type": "stream",
     "text": [
      "Beginning Data Retrieval\n",
      "------------------------\n",
      "Processing Record 1 of 630 | mataura\n",
      "Processing Record 2 of 630 | hobart\n",
      "SKIP NOT FOUND CITY | azar shahr\n",
      "Processing Record 4 of 630 | saryg-sep\n",
      "Processing Record 5 of 630 | tadine\n",
      "SKIP NOT FOUND CITY | palabuhanratu\n",
      "Processing Record 7 of 630 | kodiak\n",
      "Processing Record 8 of 630 | airai\n",
      "Processing Record 9 of 630 | santiago de cuba\n",
      "Processing Record 10 of 630 | rikitea\n",
      "Processing Record 11 of 630 | yellowknife\n",
      "Processing Record 12 of 630 | puerto escondido\n",
      "Processing Record 13 of 630 | khatanga\n",
      "Processing Record 14 of 630 | constitucion\n",
      "Processing Record 15 of 630 | mount isa\n",
      "Processing Record 16 of 630 | ambulu\n",
      "Processing Record 17 of 630 | ribeira grande\n",
      "Processing Record 18 of 630 | cherskiy\n",
      "Processing Record 19 of 630 | nanortalik\n",
      "Processing Record 20 of 630 | dikson\n",
      "Processing Record 21 of 630 | cuajinicuilapa\n",
      "Processing Record 22 of 630 | haines junction\n",
      "Processing Record 23 of 630 | ushuaia\n",
      "Processing Record 24 of 630 | bathsheba\n",
      "Processing Record 25 of 630 | katangli\n",
      "Processing Record 26 of 630 | atuona\n",
      "Processing Record 27 of 630 | sola\n",
      "SKIP NOT FOUND CITY | shchuchye\n",
      "Processing Record 29 of 630 | kahului\n",
      "Processing Record 30 of 630 | jamestown\n",
      "SKIP NOT FOUND CITY | taolanaro\n",
      "Processing Record 32 of 630 | clyde river\n",
      "Processing Record 33 of 630 | hanyang\n",
      "Processing Record 34 of 630 | port lincoln\n",
      "Processing Record 35 of 630 | castro\n",
      "Processing Record 36 of 630 | busselton\n",
      "Processing Record 37 of 630 | arraial do cabo\n",
      "Processing Record 38 of 630 | svetlyy\n",
      "Processing Record 39 of 630 | codrington\n",
      "Processing Record 40 of 630 | vaini\n",
      "Processing Record 41 of 630 | kon tum\n",
      "Processing Record 42 of 630 | bilibino\n",
      "Processing Record 43 of 630 | korla\n",
      "SKIP NOT FOUND CITY | xghajra\n",
      "Processing Record 45 of 630 | mardan\n",
      "Processing Record 46 of 630 | provost\n",
      "SKIP NOT FOUND CITY | ngukurr\n",
      "Processing Record 48 of 630 | coihaique\n",
      "Processing Record 49 of 630 | turbat\n",
      "Processing Record 50 of 630 | sitamarhi\n",
      "Processing Record 51 of 630 | cape town\n",
      "Processing Record 52 of 630 | maraba\n",
      "Processing Record 53 of 630 | sabang\n",
      "Processing Record 54 of 630 | la ronge\n",
      "Processing Record 55 of 630 | hilo\n",
      "Processing Record 56 of 630 | teresina\n",
      "Processing Record 57 of 630 | taicheng\n",
      "Processing Record 58 of 630 | zhumadian\n",
      "Processing Record 59 of 630 | gazojak\n",
      "Processing Record 60 of 630 | kattivakkam\n",
      "Processing Record 61 of 630 | barrow\n",
      "Processing Record 62 of 630 | provideniya\n",
      "SKIP NOT FOUND CITY | nizhneyansk\n",
      "Processing Record 64 of 630 | naze\n",
      "Processing Record 65 of 630 | riviere-au-renard\n",
      "Processing Record 66 of 630 | rantepao\n",
      "Processing Record 67 of 630 | hervey bay\n",
      "Processing Record 68 of 630 | kiama\n",
      "Processing Record 69 of 630 | east london\n",
      "Processing Record 70 of 630 | brae\n",
      "SKIP NOT FOUND CITY | mys shmidta\n",
      "Processing Record 72 of 630 | dunedin\n",
      "Processing Record 73 of 630 | avila\n",
      "Processing Record 74 of 630 | esperance\n",
      "Processing Record 75 of 630 | aklavik\n",
      "Processing Record 76 of 630 | nsanje\n",
      "Processing Record 77 of 630 | saint anthony\n",
      "Processing Record 78 of 630 | lasa\n",
      "Processing Record 79 of 630 | agnibilekrou\n",
      "Processing Record 80 of 630 | new norfolk\n",
      "Processing Record 81 of 630 | carbonia\n",
      "Processing Record 82 of 630 | kolokani\n",
      "Processing Record 83 of 630 | general pico\n",
      "SKIP NOT FOUND CITY | tumannyy\n",
      "Processing Record 85 of 630 | tiksi\n",
      "Processing Record 86 of 630 | talnakh\n",
      "Processing Record 87 of 630 | qeshm\n",
      "Processing Record 88 of 630 | san quintin\n",
      "SKIP NOT FOUND CITY | vaitupu\n",
      "Processing Record 90 of 630 | port elizabeth\n",
      "Processing Record 91 of 630 | buala\n",
      "Processing Record 92 of 630 | longyearbyen\n",
      "Processing Record 93 of 630 | thohoyandou\n",
      "Processing Record 94 of 630 | vestmannaeyjar\n",
      "Processing Record 95 of 630 | adrar\n",
      "Processing Record 96 of 630 | roma\n",
      "Processing Record 97 of 630 | makokou\n",
      "Processing Record 98 of 630 | georgetown\n",
      "Processing Record 99 of 630 | husavik\n",
      "Processing Record 100 of 630 | kapaa\n",
      "Processing Record 101 of 630 | catamarca\n",
      "Processing Record 102 of 630 | punta arenas\n",
      "SKIP NOT FOUND CITY | halalo\n",
      "Processing Record 104 of 630 | hermanus\n",
      "Processing Record 105 of 630 | albany\n",
      "Processing Record 106 of 630 | nikolskoye\n",
      "Processing Record 107 of 630 | bredasdorp\n",
      "Processing Record 108 of 630 | port alfred\n",
      "Processing Record 109 of 630 | iqaluit\n",
      "Processing Record 110 of 630 | puerto ayora\n",
      "Processing Record 111 of 630 | correia pinto\n",
      "Processing Record 112 of 630 | labuhan\n",
      "Processing Record 113 of 630 | leh\n",
      "Processing Record 114 of 630 | pevek\n",
      "Processing Record 115 of 630 | qaanaaq\n",
      "Processing Record 116 of 630 | westport\n",
      "Processing Record 117 of 630 | minas novas\n",
      "SKIP NOT FOUND CITY | dzhusaly\n",
      "Processing Record 119 of 630 | alta floresta\n",
      "Processing Record 120 of 630 | havelock\n",
      "Processing Record 121 of 630 | yabrud\n",
      "Processing Record 122 of 630 | dickinson\n",
      "Processing Record 123 of 630 | waitati\n",
      "SKIP NOT FOUND CITY | piryion\n",
      "Processing Record 125 of 630 | deputatskiy\n",
      "Processing Record 126 of 630 | chegdomyn\n",
      "Processing Record 127 of 630 | norman wells\n",
      "Processing Record 128 of 630 | saint-philippe\n",
      "Processing Record 129 of 630 | suntar\n",
      "Processing Record 130 of 630 | saskylakh\n",
      "Processing Record 131 of 630 | manggar\n",
      "Processing Record 132 of 630 | beringovskiy\n",
      "Processing Record 133 of 630 | vila velha\n",
      "Processing Record 134 of 630 | lethem\n",
      "SKIP NOT FOUND CITY | belushya guba\n",
      "Processing Record 136 of 630 | martuni\n",
      "Processing Record 137 of 630 | samarai\n",
      "Processing Record 138 of 630 | aller\n",
      "Processing Record 139 of 630 | erbaa\n",
      "Processing Record 140 of 630 | mao\n",
      "Processing Record 141 of 630 | butaritari\n",
      "Processing Record 142 of 630 | severo-kurilsk\n",
      "Processing Record 143 of 630 | hamilton\n",
      "Processing Record 144 of 630 | katsuura\n",
      "Processing Record 145 of 630 | bluff\n",
      "Processing Record 146 of 630 | khilok\n",
      "Processing Record 147 of 630 | bethel\n",
      "Processing Record 148 of 630 | morehead\n",
      "Processing Record 149 of 630 | arlit\n",
      "Processing Record 150 of 630 | polunochnoye\n",
      "Processing Record 151 of 630 | unity\n",
      "Processing Record 152 of 630 | fayaoue\n",
      "Processing Record 153 of 630 | kruisfontein\n",
      "Processing Record 154 of 630 | chegem\n",
      "Processing Record 155 of 630 | ponta do sol\n",
      "Processing Record 156 of 630 | saint george\n",
      "Processing Record 157 of 630 | rio grande\n",
      "Processing Record 158 of 630 | sept-iles\n",
      "Processing Record 159 of 630 | teguise\n",
      "Processing Record 160 of 630 | hami\n",
      "Processing Record 161 of 630 | bengkulu\n",
      "Processing Record 162 of 630 | mahebourg\n",
      "Processing Record 163 of 630 | tasiilaq\n",
      "Processing Record 164 of 630 | buraydah\n",
      "Processing Record 165 of 630 | nerchinskiy zavod\n",
      "Processing Record 166 of 630 | dagda\n",
      "Processing Record 167 of 630 | rundu\n",
      "Processing Record 168 of 630 | tres picos\n",
      "SKIP NOT FOUND CITY | kachikau\n",
      "Processing Record 170 of 630 | turhal\n",
      "Processing Record 171 of 630 | sur\n",
      "Processing Record 172 of 630 | lages\n",
      "Processing Record 173 of 630 | petropavlovsk-kamchatskiy\n",
      "Processing Record 174 of 630 | byron bay\n",
      "Processing Record 175 of 630 | altay\n",
      "Processing Record 176 of 630 | parauna\n",
      "Processing Record 177 of 630 | biak\n",
      "Processing Record 178 of 630 | lavrentiya\n",
      "SKIP NOT FOUND CITY | labutta\n",
      "Processing Record 180 of 630 | alofi\n",
      "Processing Record 181 of 630 | zhaotong\n",
      "Processing Record 182 of 630 | tynda\n",
      "Processing Record 183 of 630 | namatanai\n",
      "Processing Record 184 of 630 | wajir\n",
      "Processing Record 185 of 630 | volchikha\n",
      "Processing Record 186 of 630 | kaitangata\n",
      "SKIP NOT FOUND CITY | khonuu\n",
      "Processing Record 188 of 630 | avarua\n",
      "Processing Record 189 of 630 | lafiagi\n",
      "SKIP NOT FOUND CITY | jiroft\n",
      "Processing Record 191 of 630 | escuinapa\n",
      "Processing Record 192 of 630 | ratnagiri\n",
      "SKIP NOT FOUND CITY | karkaralinsk\n",
      "SKIP NOT FOUND CITY | xadani\n",
      "Processing Record 195 of 630 | fortuna\n",
      "Processing Record 196 of 630 | victoria\n",
      "Processing Record 197 of 630 | portland\n",
      "Processing Record 198 of 630 | port hardy\n",
      "Processing Record 199 of 630 | dingle\n",
      "Processing Record 200 of 630 | hambantota\n",
      "Processing Record 201 of 630 | taraz\n",
      "Processing Record 202 of 630 | kavieng\n",
      "Processing Record 203 of 630 | beloha\n",
      "Processing Record 204 of 630 | pringsewu\n",
      "Processing Record 205 of 630 | nirgua\n",
      "Processing Record 206 of 630 | luau\n",
      "Processing Record 207 of 630 | dondo\n",
      "Processing Record 208 of 630 | assai\n",
      "Processing Record 209 of 630 | planaltina\n",
      "Processing Record 210 of 630 | nhulunbuy\n"
     ]
    },
    {
     "name": "stdout",
     "output_type": "stream",
     "text": [
      "Processing Record 211 of 630 | deer lake\n",
      "Processing Record 212 of 630 | shimoda\n",
      "Processing Record 213 of 630 | gorontalo\n",
      "Processing Record 214 of 630 | perevolotskiy\n",
      "SKIP NOT FOUND CITY | sorvag\n",
      "Processing Record 216 of 630 | takhtamygda\n",
      "SKIP NOT FOUND CITY | gangotri\n",
      "Processing Record 218 of 630 | fairbanks\n",
      "Processing Record 219 of 630 | akalkot\n",
      "Processing Record 220 of 630 | hokitika\n",
      "SKIP NOT FOUND CITY | illoqqortoormiut\n",
      "Processing Record 222 of 630 | cam ranh\n",
      "Processing Record 223 of 630 | thompson\n",
      "Processing Record 224 of 630 | nacala\n",
      "Processing Record 225 of 630 | south yuba city\n",
      "Processing Record 226 of 630 | piqua\n",
      "Processing Record 227 of 630 | ardabil\n",
      "Processing Record 228 of 630 | ostrovnoy\n",
      "Processing Record 229 of 630 | bambous virieux\n",
      "Processing Record 230 of 630 | birjand\n",
      "Processing Record 231 of 630 | namibe\n",
      "Processing Record 232 of 630 | buchanan\n",
      "Processing Record 233 of 630 | chuy\n",
      "Processing Record 234 of 630 | faanui\n",
      "SKIP NOT FOUND CITY | saleaula\n",
      "Processing Record 236 of 630 | chokurdakh\n",
      "Processing Record 237 of 630 | atherton\n",
      "Processing Record 238 of 630 | huarmey\n",
      "Processing Record 239 of 630 | ancud\n",
      "Processing Record 240 of 630 | manokwari\n",
      "Processing Record 241 of 630 | pangnirtung\n",
      "Processing Record 242 of 630 | moerai\n",
      "Processing Record 243 of 630 | grand-santi\n",
      "Processing Record 244 of 630 | solnechnyy\n",
      "Processing Record 245 of 630 | oparino\n",
      "Processing Record 246 of 630 | acaponeta\n",
      "Processing Record 247 of 630 | omsukchan\n",
      "Processing Record 248 of 630 | heswall\n",
      "SKIP NOT FOUND CITY | barentsburg\n",
      "Processing Record 250 of 630 | jacareacanga\n",
      "Processing Record 251 of 630 | gogrial\n",
      "Processing Record 252 of 630 | shubarkuduk\n",
      "Processing Record 253 of 630 | diego de almagro\n",
      "Processing Record 254 of 630 | bayir\n",
      "Processing Record 255 of 630 | sitka\n",
      "Processing Record 256 of 630 | souillac\n",
      "SKIP NOT FOUND CITY | jiddah\n",
      "Processing Record 258 of 630 | seabra\n",
      "Processing Record 259 of 630 | cabo san lucas\n",
      "Processing Record 260 of 630 | lae\n",
      "Processing Record 261 of 630 | guerrero negro\n",
      "Processing Record 262 of 630 | putai\n",
      "Processing Record 263 of 630 | mackenzie\n",
      "Processing Record 264 of 630 | yakeshi\n",
      "Processing Record 265 of 630 | gabu\n",
      "Processing Record 266 of 630 | kalianget\n",
      "Processing Record 267 of 630 | hithadhoo\n",
      "Processing Record 268 of 630 | ormara\n",
      "Processing Record 269 of 630 | kencong\n",
      "SKIP NOT FOUND CITY | tabiauea\n",
      "Processing Record 271 of 630 | dalvik\n",
      "Processing Record 272 of 630 | vila\n",
      "Processing Record 273 of 630 | pedernales\n",
      "Processing Record 274 of 630 | lichtenburg\n",
      "Processing Record 275 of 630 | tateyama\n",
      "Processing Record 276 of 630 | antalaha\n",
      "SKIP NOT FOUND CITY | utiroa\n",
      "Processing Record 278 of 630 | topolobampo\n",
      "Processing Record 279 of 630 | coahuayana\n",
      "Processing Record 280 of 630 | tautira\n",
      "Processing Record 281 of 630 | pacific grove\n",
      "Processing Record 282 of 630 | sinnamary\n",
      "Processing Record 283 of 630 | portobelo\n",
      "Processing Record 284 of 630 | bambanglipuro\n",
      "Processing Record 285 of 630 | pokhara\n",
      "Processing Record 286 of 630 | langsa\n",
      "Processing Record 287 of 630 | kalemie\n",
      "Processing Record 288 of 630 | tamandare\n",
      "Processing Record 289 of 630 | padang\n",
      "SKIP NOT FOUND CITY | grand centre\n",
      "Processing Record 291 of 630 | tazovskiy\n",
      "Processing Record 292 of 630 | monze\n",
      "SKIP NOT FOUND CITY | vastervik\n",
      "Processing Record 294 of 630 | linjiang\n",
      "Processing Record 295 of 630 | santa cruz\n",
      "Processing Record 296 of 630 | do gonbadan\n",
      "Processing Record 297 of 630 | sokoni\n",
      "Processing Record 298 of 630 | manosque\n",
      "SKIP NOT FOUND CITY | grand river south east\n",
      "Processing Record 300 of 630 | san jose de tarros\n",
      "Processing Record 301 of 630 | ayorou\n",
      "Processing Record 302 of 630 | gorin\n",
      "Processing Record 303 of 630 | meulaboh\n",
      "Processing Record 304 of 630 | bezerros\n",
      "Processing Record 305 of 630 | lebu\n",
      "Processing Record 306 of 630 | oriximina\n",
      "SKIP NOT FOUND CITY | marcona\n",
      "Processing Record 308 of 630 | poum\n",
      "Processing Record 309 of 630 | wejherowo\n",
      "Processing Record 310 of 630 | laguna\n",
      "Processing Record 311 of 630 | champerico\n",
      "Processing Record 312 of 630 | carnarvon\n",
      "Processing Record 313 of 630 | isangel\n",
      "Processing Record 314 of 630 | san cristobal\n",
      "Processing Record 315 of 630 | adre\n",
      "Processing Record 316 of 630 | lorengau\n",
      "Processing Record 317 of 630 | ankazoabo\n",
      "Processing Record 318 of 630 | necochea\n",
      "Processing Record 319 of 630 | grindavik\n",
      "Processing Record 320 of 630 | ossora\n",
      "Processing Record 321 of 630 | homer\n",
      "Processing Record 322 of 630 | torrington\n",
      "Processing Record 323 of 630 | gat\n",
      "Processing Record 324 of 630 | faya\n",
      "Processing Record 325 of 630 | contai\n",
      "Processing Record 326 of 630 | korba\n",
      "Processing Record 327 of 630 | sao filipe\n",
      "Processing Record 328 of 630 | itapirapua\n",
      "Processing Record 329 of 630 | palmerston\n",
      "Processing Record 330 of 630 | perth\n",
      "Processing Record 331 of 630 | kendari\n",
      "Processing Record 332 of 630 | faro\n",
      "Processing Record 333 of 630 | touros\n",
      "Processing Record 334 of 630 | mar del plata\n",
      "Processing Record 335 of 630 | tuktoyaktuk\n",
      "Processing Record 336 of 630 | narsaq\n",
      "Processing Record 337 of 630 | forst\n",
      "Processing Record 338 of 630 | hobyo\n",
      "SKIP NOT FOUND CITY | kamenskoye\n",
      "Processing Record 340 of 630 | sorbhog\n",
      "Processing Record 341 of 630 | egvekinot\n",
      "Processing Record 342 of 630 | umea\n",
      "Processing Record 343 of 630 | porbandar\n",
      "Processing Record 344 of 630 | terrace\n",
      "Processing Record 345 of 630 | college\n",
      "Processing Record 346 of 630 | saldanha\n",
      "Processing Record 347 of 630 | klaksvik\n",
      "SKIP NOT FOUND CITY | toliary\n",
      "Processing Record 349 of 630 | mana\n",
      "Processing Record 350 of 630 | geraldton\n",
      "Processing Record 351 of 630 | avera\n",
      "Processing Record 352 of 630 | saint-georges\n",
      "Processing Record 353 of 630 | louga\n",
      "Processing Record 354 of 630 | gimli\n",
      "Processing Record 355 of 630 | slave lake\n",
      "Processing Record 356 of 630 | vostok\n",
      "Processing Record 357 of 630 | upernavik\n",
      "Processing Record 358 of 630 | tilichiki\n",
      "Processing Record 359 of 630 | mascota\n",
      "Processing Record 360 of 630 | staraya toropa\n",
      "Processing Record 361 of 630 | yulara\n",
      "Processing Record 362 of 630 | togur\n",
      "Processing Record 363 of 630 | muisne\n",
      "SKIP NOT FOUND CITY | amderma\n",
      "Processing Record 365 of 630 | hasaki\n",
      "Processing Record 366 of 630 | japura\n",
      "Processing Record 367 of 630 | nuuk\n",
      "SKIP NOT FOUND CITY | samalaeulu\n",
      "Processing Record 369 of 630 | ust-maya\n",
      "Processing Record 370 of 630 | mogadishu\n",
      "SKIP NOT FOUND CITY | saryshagan\n",
      "Processing Record 372 of 630 | kirakira\n",
      "Processing Record 373 of 630 | alaca\n",
      "SKIP NOT FOUND CITY | kazalinsk\n",
      "Processing Record 375 of 630 | atkarsk\n",
      "Processing Record 376 of 630 | mufulira\n",
      "Processing Record 377 of 630 | bam\n",
      "Processing Record 378 of 630 | treinta y tres\n",
      "Processing Record 379 of 630 | richards bay\n",
      "Processing Record 380 of 630 | mabaruma\n",
      "Processing Record 381 of 630 | rosetta\n",
      "Processing Record 382 of 630 | pinega\n",
      "Processing Record 383 of 630 | lagoa\n",
      "Processing Record 384 of 630 | armidale\n",
      "Processing Record 385 of 630 | kitimat\n",
      "Processing Record 386 of 630 | omboue\n",
      "Processing Record 387 of 630 | ostrogozhsk\n",
      "Processing Record 388 of 630 | fort nelson\n",
      "Processing Record 389 of 630 | zyryanka\n",
      "Processing Record 390 of 630 | aksarka\n",
      "Processing Record 391 of 630 | moose factory\n",
      "SKIP NOT FOUND CITY | bolungarvik\n",
      "Processing Record 393 of 630 | vilhena\n",
      "Processing Record 394 of 630 | nantucket\n",
      "Processing Record 395 of 630 | owando\n",
      "SKIP NOT FOUND CITY | samusu\n",
      "Processing Record 397 of 630 | manyana\n",
      "Processing Record 398 of 630 | spirit river\n",
      "SKIP NOT FOUND CITY | tarudant\n",
      "Processing Record 400 of 630 | cidreira\n",
      "Processing Record 401 of 630 | manawar\n",
      "SKIP NOT FOUND CITY | mahadday weyne\n",
      "Processing Record 403 of 630 | aripuana\n",
      "Processing Record 404 of 630 | ahipara\n",
      "Processing Record 405 of 630 | marzuq\n",
      "SKIP NOT FOUND CITY | riaba\n",
      "Processing Record 407 of 630 | nokaneng\n",
      "Processing Record 408 of 630 | grand gaube\n",
      "Processing Record 409 of 630 | terenos\n",
      "Processing Record 410 of 630 | ketchikan\n",
      "Processing Record 411 of 630 | nemuro\n",
      "Processing Record 412 of 630 | saint-augustin\n",
      "Processing Record 413 of 630 | tigil\n",
      "Processing Record 414 of 630 | ulagan\n",
      "Processing Record 415 of 630 | sisophon\n",
      "Processing Record 416 of 630 | sorong\n",
      "Processing Record 417 of 630 | maceio\n",
      "Processing Record 418 of 630 | kaeo\n",
      "Processing Record 419 of 630 | atasu\n",
      "Processing Record 420 of 630 | jeremie\n"
     ]
    },
    {
     "name": "stdout",
     "output_type": "stream",
     "text": [
      "Processing Record 421 of 630 | phan thiet\n",
      "Processing Record 422 of 630 | svetlogorsk\n",
      "Processing Record 423 of 630 | brookings\n",
      "Processing Record 424 of 630 | shenjiamen\n",
      "SKIP NOT FOUND CITY | bargal\n",
      "Processing Record 426 of 630 | hit\n",
      "Processing Record 427 of 630 | lompoc\n",
      "Processing Record 428 of 630 | zapresic\n",
      "Processing Record 429 of 630 | vao\n",
      "Processing Record 430 of 630 | port blair\n",
      "Processing Record 431 of 630 | morlaix\n",
      "SKIP NOT FOUND CITY | temaraia\n",
      "Processing Record 433 of 630 | sanming\n",
      "Processing Record 434 of 630 | grand island\n",
      "Processing Record 435 of 630 | yumen\n",
      "Processing Record 436 of 630 | bollnas\n",
      "Processing Record 437 of 630 | mitsamiouli\n",
      "Processing Record 438 of 630 | gumdag\n",
      "Processing Record 439 of 630 | salalah\n",
      "Processing Record 440 of 630 | comarapa\n",
      "Processing Record 441 of 630 | santa maria\n",
      "Processing Record 442 of 630 | magistralnyy\n",
      "Processing Record 443 of 630 | tambura\n",
      "Processing Record 444 of 630 | talara\n",
      "Processing Record 445 of 630 | ambon\n",
      "Processing Record 446 of 630 | khasan\n",
      "Processing Record 447 of 630 | nyurba\n",
      "Processing Record 448 of 630 | uchaly\n",
      "Processing Record 449 of 630 | broken hill\n",
      "Processing Record 450 of 630 | opuwo\n",
      "Processing Record 451 of 630 | zhigansk\n",
      "Processing Record 452 of 630 | campos do jordao\n",
      "Processing Record 453 of 630 | leningradskiy\n",
      "Processing Record 454 of 630 | oranjemund\n",
      "Processing Record 455 of 630 | mercedes\n",
      "Processing Record 456 of 630 | andilamena\n",
      "Processing Record 457 of 630 | gbarnga\n",
      "Processing Record 458 of 630 | caldwell\n",
      "SKIP NOT FOUND CITY | warqla\n",
      "Processing Record 460 of 630 | carauari\n",
      "Processing Record 461 of 630 | dhidhdhoo\n",
      "SKIP NOT FOUND CITY | tsihombe\n",
      "Processing Record 463 of 630 | stykkisholmur\n",
      "Processing Record 464 of 630 | praia\n",
      "Processing Record 465 of 630 | tommot\n",
      "Processing Record 466 of 630 | ilulissat\n",
      "Processing Record 467 of 630 | acapulco\n",
      "Processing Record 468 of 630 | krasnoselkup\n",
      "Processing Record 469 of 630 | tsiroanomandidy\n",
      "Processing Record 470 of 630 | ust-kut\n",
      "Processing Record 471 of 630 | nagato\n",
      "Processing Record 472 of 630 | adolfo lopez mateos\n",
      "Processing Record 473 of 630 | torbay\n",
      "Processing Record 474 of 630 | riyadh\n",
      "Processing Record 475 of 630 | berlevag\n",
      "Processing Record 476 of 630 | yar-sale\n",
      "Processing Record 477 of 630 | aras\n",
      "Processing Record 478 of 630 | kebumen\n",
      "Processing Record 479 of 630 | kodinar\n",
      "Processing Record 480 of 630 | yeniseysk\n",
      "Processing Record 481 of 630 | yaring\n",
      "Processing Record 482 of 630 | hermosillo\n",
      "SKIP NOT FOUND CITY | sataua\n",
      "Processing Record 484 of 630 | gikongoro\n",
      "Processing Record 485 of 630 | kismayo\n",
      "Processing Record 486 of 630 | hualmay\n",
      "Processing Record 487 of 630 | anshan\n",
      "Processing Record 488 of 630 | tagusao\n",
      "Processing Record 489 of 630 | alice town\n",
      "SKIP NOT FOUND CITY | ust-kamchatsk\n",
      "Processing Record 491 of 630 | tecoanapa\n",
      "Processing Record 492 of 630 | ambilobe\n",
      "Processing Record 493 of 630 | santa catarina de tepehuanes\n",
      "Processing Record 494 of 630 | jackson\n",
      "Processing Record 495 of 630 | zaltan\n",
      "Processing Record 496 of 630 | igarka\n",
      "Processing Record 497 of 630 | pitimbu\n",
      "Processing Record 498 of 630 | council bluffs\n",
      "Processing Record 499 of 630 | camana\n",
      "Processing Record 500 of 630 | high level\n",
      "Processing Record 501 of 630 | wahpeton\n",
      "Processing Record 502 of 630 | puri\n",
      "Processing Record 503 of 630 | itacoatiara\n",
      "Processing Record 504 of 630 | olafsvik\n",
      "Processing Record 505 of 630 | flin flon\n",
      "Processing Record 506 of 630 | makakilo city\n",
      "Processing Record 507 of 630 | trinidad\n",
      "Processing Record 508 of 630 | north bend\n",
      "Processing Record 509 of 630 | salaga\n",
      "Processing Record 510 of 630 | mozarlandia\n",
      "Processing Record 511 of 630 | puerto del rosario\n",
      "Processing Record 512 of 630 | yubari\n",
      "Processing Record 513 of 630 | hofn\n",
      "Processing Record 514 of 630 | ashtian\n",
      "Processing Record 515 of 630 | picos\n",
      "Processing Record 516 of 630 | morondava\n",
      "Processing Record 517 of 630 | vanimo\n",
      "Processing Record 518 of 630 | warri\n",
      "Processing Record 519 of 630 | rawson\n",
      "Processing Record 520 of 630 | kudahuvadhoo\n",
      "Processing Record 521 of 630 | nishihara\n",
      "Processing Record 522 of 630 | rizhao\n",
      "Processing Record 523 of 630 | san andres\n",
      "Processing Record 524 of 630 | povenets\n",
      "Processing Record 525 of 630 | asosa\n",
      "Processing Record 526 of 630 | apac\n",
      "Processing Record 527 of 630 | san rafael del sur\n",
      "Processing Record 528 of 630 | nouadhibou\n",
      "Processing Record 529 of 630 | vila franca do campo\n",
      "Processing Record 530 of 630 | quetame\n",
      "Processing Record 531 of 630 | gornopravdinsk\n",
      "Processing Record 532 of 630 | tsumeb\n",
      "Processing Record 533 of 630 | sosnovka\n",
      "Processing Record 534 of 630 | kindu\n",
      "SKIP NOT FOUND CITY | sentyabrskiy\n",
      "Processing Record 536 of 630 | mount gambier\n",
      "Processing Record 537 of 630 | tucupita\n",
      "Processing Record 538 of 630 | fare\n",
      "Processing Record 539 of 630 | kununurra\n",
      "Processing Record 540 of 630 | san carlos de bariloche\n",
      "SKIP NOT FOUND CITY | do rud\n",
      "Processing Record 542 of 630 | padampur\n",
      "Processing Record 543 of 630 | khonsa\n",
      "Processing Record 544 of 630 | abha\n",
      "Processing Record 545 of 630 | tiarei\n",
      "Processing Record 546 of 630 | urla\n",
      "Processing Record 547 of 630 | srednekolymsk\n",
      "Processing Record 548 of 630 | paamiut\n",
      "Processing Record 549 of 630 | aksu\n",
      "Processing Record 550 of 630 | longyan\n",
      "Processing Record 551 of 630 | mehamn\n",
      "Processing Record 552 of 630 | blois\n",
      "Processing Record 553 of 630 | tomatlan\n",
      "SKIP NOT FOUND CITY | bur gabo\n",
      "Processing Record 555 of 630 | placido de castro\n",
      "Processing Record 556 of 630 | chhabra\n",
      "Processing Record 557 of 630 | sao joao da barra\n",
      "Processing Record 558 of 630 | bendigo\n",
      "Processing Record 559 of 630 | bud\n",
      "Processing Record 560 of 630 | miramar\n",
      "Processing Record 561 of 630 | uvinza\n",
      "Processing Record 562 of 630 | rocha\n",
      "Processing Record 563 of 630 | wenatchee\n",
      "Processing Record 564 of 630 | tianpeng\n",
      "Processing Record 565 of 630 | yenagoa\n",
      "SKIP NOT FOUND CITY | karakendzha\n",
      "Processing Record 567 of 630 | muroran\n",
      "Processing Record 568 of 630 | manzhouli\n",
      "Processing Record 569 of 630 | santa ines\n",
      "Processing Record 570 of 630 | bonavista\n",
      "Processing Record 571 of 630 | ludvika\n",
      "Processing Record 572 of 630 | hurghada\n",
      "Processing Record 573 of 630 | zhuanghe\n",
      "Processing Record 574 of 630 | ola\n",
      "Processing Record 575 of 630 | amazar\n",
      "Processing Record 576 of 630 | teguldet\n",
      "Processing Record 577 of 630 | dombarovskiy\n",
      "Processing Record 578 of 630 | cervo\n",
      "Processing Record 579 of 630 | darhan\n",
      "SKIP NOT FOUND CITY | tome-acu\n",
      "Processing Record 581 of 630 | dijkot\n",
      "Processing Record 582 of 630 | kyra\n",
      "Processing Record 583 of 630 | nueve de julio\n",
      "Processing Record 584 of 630 | chicama\n",
      "Processing Record 585 of 630 | hurricane\n",
      "Processing Record 586 of 630 | polson\n",
      "Processing Record 587 of 630 | awjilah\n",
      "Processing Record 588 of 630 | bambari\n",
      "Processing Record 589 of 630 | marysville\n",
      "Processing Record 590 of 630 | ottumwa\n",
      "Processing Record 591 of 630 | tayga\n",
      "Processing Record 592 of 630 | savinka\n",
      "Processing Record 593 of 630 | bronnoysund\n",
      "Processing Record 594 of 630 | noumea\n",
      "Processing Record 595 of 630 | tabas\n",
      "Processing Record 596 of 630 | hellin\n",
      "Processing Record 597 of 630 | samur\n",
      "Processing Record 598 of 630 | balaguer\n",
      "Processing Record 599 of 630 | presidente venceslau\n",
      "Processing Record 600 of 630 | los llanos de aridane\n",
      "Processing Record 601 of 630 | cody\n",
      "Processing Record 602 of 630 | eyemouth\n",
      "Processing Record 603 of 630 | punta alta\n",
      "Processing Record 604 of 630 | afrikanda\n",
      "Processing Record 605 of 630 | san rafael\n",
      "Processing Record 606 of 630 | harper\n",
      "Processing Record 607 of 630 | sobolevo\n",
      "Processing Record 608 of 630 | tongliao\n",
      "Processing Record 609 of 630 | dourdan\n",
      "Processing Record 610 of 630 | sulphur springs\n",
      "Processing Record 611 of 630 | athabasca\n",
      "Processing Record 612 of 630 | kalangala\n",
      "Processing Record 613 of 630 | tucurui\n",
      "Processing Record 614 of 630 | hilton head island\n",
      "Processing Record 615 of 630 | sandwick\n",
      "Processing Record 616 of 630 | cockburn town\n",
      "Processing Record 617 of 630 | vysokogornyy\n",
      "Processing Record 618 of 630 | virginia beach\n",
      "Processing Record 619 of 630 | iskateley\n",
      "Processing Record 620 of 630 | bayangol\n",
      "Processing Record 621 of 630 | behbahan\n",
      "Processing Record 622 of 630 | alekseyevka\n",
      "Processing Record 623 of 630 | goderich\n",
      "Processing Record 624 of 630 | powell river\n",
      "Processing Record 625 of 630 | linfen\n"
     ]
    },
    {
     "name": "stdout",
     "output_type": "stream",
     "text": [
      "SKIP NOT FOUND CITY | doctor pedro p. pena\n",
      "Processing Record 627 of 630 | turayf\n",
      "SKIP NOT FOUND CITY | hunza\n",
      "Processing Record 629 of 630 | douentza\n",
      "Processing Record 630 of 630 | karratha\n"
     ]
    }
   ],
   "source": [
    "mock=[\"monterrey\",\"saltillo\"]\n",
    "arrayCit = []\n",
    "count=1\n",
    "print(\"Beginning Data Retrieval\")\n",
    "print(\"------------------------\")\n",
    "for city in cities:\n",
    "    response=requests.get(f\"http://api.openweathermap.org/data/2.5/weather?q={city}&appid={weather_api_key}\")\n",
    "    data=response.json()\n",
    "    if(data[\"cod\"]==200):\n",
    "        celcisus_temp = data[\"main\"][\"temp_max\"] - 273.15\n",
    "        fahrenheit_temp = celcisus_temp * ( 9 / 5 ) + 32\n",
    "        print(f\"Processing Record {count} of {len(cities)} | {city}\")\n",
    "        #dataF={\"City\":city ,\"Cloudiness\": data[\"clouds\"][\"all\"] , \"Country\":data[\"sys\"][\"country\"] , \"Date\":data[\"dt\"] , \"Humidity\":data[\"main\"][\"humidity\"] , \"Lat\":data[\"coord\"][\"lat\"] , \"Lng\":data[\"coord\"][\"lon\"] , \"MaxTemp\":data[\"main\"][\"temp_max\"] , \"WindSpeed\":data[\"wind\"][\"speed\"]}\n",
    "        dataV=(city,data[\"clouds\"][\"all\"],data[\"sys\"][\"country\"],data[\"dt\"],data[\"main\"][\"humidity\"] ,data[\"coord\"][\"lat\"],data[\"coord\"][\"lon\"],fahrenheit_temp,data[\"wind\"][\"speed\"])\n",
    "        arrayCit.append(dataV)\n",
    "        count=count+1\n",
    "    else:\n",
    "        print(f\"SKIP NOT FOUND CITY | {city}\")\n",
    "        count=count+1"
   ]
  },
  {
   "cell_type": "markdown",
   "metadata": {},
   "source": [
    "### Convert Raw Data to DataFrame\n",
    "* Export the city data into a .csv.\n",
    "* Display the DataFrame"
   ]
  },
  {
   "cell_type": "code",
   "execution_count": 75,
   "metadata": {},
   "outputs": [
    {
     "data": {
      "text/html": [
       "<div>\n",
       "<style scoped>\n",
       "    .dataframe tbody tr th:only-of-type {\n",
       "        vertical-align: middle;\n",
       "    }\n",
       "\n",
       "    .dataframe tbody tr th {\n",
       "        vertical-align: top;\n",
       "    }\n",
       "\n",
       "    .dataframe thead th {\n",
       "        text-align: right;\n",
       "    }\n",
       "</style>\n",
       "<table border=\"1\" class=\"dataframe\">\n",
       "  <thead>\n",
       "    <tr style=\"text-align: right;\">\n",
       "      <th></th>\n",
       "      <th>City</th>\n",
       "      <th>Cloudiness</th>\n",
       "      <th>Country</th>\n",
       "      <th>Date</th>\n",
       "      <th>Humidity</th>\n",
       "      <th>Lat</th>\n",
       "      <th>Lng</th>\n",
       "      <th>Max Temp</th>\n",
       "      <th>WindSpeed</th>\n",
       "    </tr>\n",
       "  </thead>\n",
       "  <tbody>\n",
       "    <tr>\n",
       "      <td>0</td>\n",
       "      <td>mataura</td>\n",
       "      <td>100</td>\n",
       "      <td>NZ</td>\n",
       "      <td>1582751940</td>\n",
       "      <td>51</td>\n",
       "      <td>-46.19</td>\n",
       "      <td>168.86</td>\n",
       "      <td>71.006</td>\n",
       "      <td>2.24</td>\n",
       "    </tr>\n",
       "    <tr>\n",
       "      <td>1</td>\n",
       "      <td>hobart</td>\n",
       "      <td>75</td>\n",
       "      <td>AU</td>\n",
       "      <td>1582751940</td>\n",
       "      <td>50</td>\n",
       "      <td>-42.88</td>\n",
       "      <td>147.33</td>\n",
       "      <td>57.200</td>\n",
       "      <td>6.70</td>\n",
       "    </tr>\n",
       "    <tr>\n",
       "      <td>2</td>\n",
       "      <td>saryg-sep</td>\n",
       "      <td>4</td>\n",
       "      <td>RU</td>\n",
       "      <td>1582751940</td>\n",
       "      <td>95</td>\n",
       "      <td>51.50</td>\n",
       "      <td>95.60</td>\n",
       "      <td>-5.800</td>\n",
       "      <td>1.13</td>\n",
       "    </tr>\n",
       "    <tr>\n",
       "      <td>3</td>\n",
       "      <td>tadine</td>\n",
       "      <td>11</td>\n",
       "      <td>NC</td>\n",
       "      <td>1582751802</td>\n",
       "      <td>83</td>\n",
       "      <td>-21.55</td>\n",
       "      <td>167.88</td>\n",
       "      <td>79.484</td>\n",
       "      <td>4.29</td>\n",
       "    </tr>\n",
       "    <tr>\n",
       "      <td>4</td>\n",
       "      <td>kodiak</td>\n",
       "      <td>40</td>\n",
       "      <td>US</td>\n",
       "      <td>1582751940</td>\n",
       "      <td>74</td>\n",
       "      <td>57.79</td>\n",
       "      <td>-152.41</td>\n",
       "      <td>35.600</td>\n",
       "      <td>6.70</td>\n",
       "    </tr>\n",
       "    <tr>\n",
       "      <td>...</td>\n",
       "      <td>...</td>\n",
       "      <td>...</td>\n",
       "      <td>...</td>\n",
       "      <td>...</td>\n",
       "      <td>...</td>\n",
       "      <td>...</td>\n",
       "      <td>...</td>\n",
       "      <td>...</td>\n",
       "      <td>...</td>\n",
       "    </tr>\n",
       "    <tr>\n",
       "      <td>569</td>\n",
       "      <td>powell river</td>\n",
       "      <td>90</td>\n",
       "      <td>CA</td>\n",
       "      <td>1582752018</td>\n",
       "      <td>87</td>\n",
       "      <td>49.85</td>\n",
       "      <td>-124.54</td>\n",
       "      <td>48.002</td>\n",
       "      <td>2.60</td>\n",
       "    </tr>\n",
       "    <tr>\n",
       "      <td>570</td>\n",
       "      <td>linfen</td>\n",
       "      <td>100</td>\n",
       "      <td>CN</td>\n",
       "      <td>1582752018</td>\n",
       "      <td>72</td>\n",
       "      <td>36.09</td>\n",
       "      <td>111.52</td>\n",
       "      <td>44.798</td>\n",
       "      <td>2.28</td>\n",
       "    </tr>\n",
       "    <tr>\n",
       "      <td>571</td>\n",
       "      <td>turayf</td>\n",
       "      <td>0</td>\n",
       "      <td>SA</td>\n",
       "      <td>1582752019</td>\n",
       "      <td>93</td>\n",
       "      <td>31.67</td>\n",
       "      <td>38.66</td>\n",
       "      <td>46.400</td>\n",
       "      <td>3.10</td>\n",
       "    </tr>\n",
       "    <tr>\n",
       "      <td>572</td>\n",
       "      <td>douentza</td>\n",
       "      <td>0</td>\n",
       "      <td>ML</td>\n",
       "      <td>1582752019</td>\n",
       "      <td>13</td>\n",
       "      <td>15.00</td>\n",
       "      <td>-2.95</td>\n",
       "      <td>72.518</td>\n",
       "      <td>2.40</td>\n",
       "    </tr>\n",
       "    <tr>\n",
       "      <td>573</td>\n",
       "      <td>karratha</td>\n",
       "      <td>100</td>\n",
       "      <td>AU</td>\n",
       "      <td>1582752019</td>\n",
       "      <td>81</td>\n",
       "      <td>-20.74</td>\n",
       "      <td>116.85</td>\n",
       "      <td>83.210</td>\n",
       "      <td>4.27</td>\n",
       "    </tr>\n",
       "  </tbody>\n",
       "</table>\n",
       "<p>574 rows × 9 columns</p>\n",
       "</div>"
      ],
      "text/plain": [
       "             City  Cloudiness Country        Date  Humidity    Lat     Lng  \\\n",
       "0         mataura         100      NZ  1582751940        51 -46.19  168.86   \n",
       "1          hobart          75      AU  1582751940        50 -42.88  147.33   \n",
       "2       saryg-sep           4      RU  1582751940        95  51.50   95.60   \n",
       "3          tadine          11      NC  1582751802        83 -21.55  167.88   \n",
       "4          kodiak          40      US  1582751940        74  57.79 -152.41   \n",
       "..            ...         ...     ...         ...       ...    ...     ...   \n",
       "569  powell river          90      CA  1582752018        87  49.85 -124.54   \n",
       "570        linfen         100      CN  1582752018        72  36.09  111.52   \n",
       "571        turayf           0      SA  1582752019        93  31.67   38.66   \n",
       "572      douentza           0      ML  1582752019        13  15.00   -2.95   \n",
       "573      karratha         100      AU  1582752019        81 -20.74  116.85   \n",
       "\n",
       "     Max Temp  WindSpeed  \n",
       "0      71.006       2.24  \n",
       "1      57.200       6.70  \n",
       "2      -5.800       1.13  \n",
       "3      79.484       4.29  \n",
       "4      35.600       6.70  \n",
       "..        ...        ...  \n",
       "569    48.002       2.60  \n",
       "570    44.798       2.28  \n",
       "571    46.400       3.10  \n",
       "572    72.518       2.40  \n",
       "573    83.210       4.27  \n",
       "\n",
       "[574 rows x 9 columns]"
      ]
     },
     "execution_count": 75,
     "metadata": {},
     "output_type": "execute_result"
    }
   ],
   "source": [
    "dfCities = pd.DataFrame(arrayCit, columns = [\"City\",\"Cloudiness\",\"Country\",\"Date\",\"Humidity\",\"Lat\",\"Lng\",\"Max Temp\",\"WindSpeed\"])\n",
    "dfCities"
   ]
  },
  {
   "cell_type": "markdown",
   "metadata": {},
   "source": [
    "### Plotting the Data\n",
    "* Use proper labeling of the plots using plot titles (including date of analysis) and axes labels.\n",
    "* Save the plotted figures as .pngs."
   ]
  },
  {
   "cell_type": "markdown",
   "metadata": {},
   "source": [
    "#### Latitude vs. Temperature Plot"
   ]
  },
  {
   "cell_type": "code",
   "execution_count": 87,
   "metadata": {
    "scrolled": true
   },
   "outputs": [
    {
     "data": {
      "text/plain": [
       "[<matplotlib.lines.Line2D at 0x14de84b1f48>]"
      ]
     },
     "execution_count": 87,
     "metadata": {},
     "output_type": "execute_result"
    },
    {
     "data": {
      "image/png": "[encoded data removed]",
      "text/plain": [
       "<Figure size 432x288 with 1 Axes>"
      ]
     },
     "metadata": {
      "needs_background": "light"
     },
     "output_type": "display_data"
    }
   ],
   "source": [
    "#plt.scatter(dfCities[\"Lat\"], dfCities[\"Max Temp\"])\n",
    "x=dfCities[\"Lat\"]\n",
    "y=dfCities[\"Max Temp\"]\n",
    "(slope, intercept, rvalue, pvalue, stderr) = linregress(x, y)\n",
    "regress_values = x * slope + intercept\n",
    "line_eq = \"y = \" + str(round(slope,2)) + \"x + \" + str(round(intercept,2))\n",
    "plt.scatter(x,y)\n",
    "plt.plot(x,regress_values,\"r-\")"
   ]
  },
  {
   "cell_type": "markdown",
   "metadata": {},
   "source": [
    "#### Latitude vs. Humidity Plot"
   ]
  },
  {
   "cell_type": "code",
   "execution_count": 85,
   "metadata": {},
   "outputs": [
    {
     "data": {
      "text/plain": [
       "[<matplotlib.lines.Line2D at 0x14de734cb08>]"
      ]
     },
     "execution_count": 85,
     "metadata": {},
     "output_type": "execute_result"
    },
    {
     "data": {
      "image/png": "[encoded data removed]",
      "text/plain": [
       "<Figure size 432x288 with 1 Axes>"
      ]
     },
     "metadata": {
      "needs_background": "light"
     },
     "output_type": "display_data"
    }
   ],
   "source": [
    "#plt.scatter(dfCities[\"Lat\"], dfCities[\"Humidity\"])\n",
    "x=dfCities[\"Lat\"]\n",
    "y=dfCities[\"Humidity\"]\n",
    "(slope, intercept, rvalue, pvalue, stderr) = linregress(x, y)\n",
    "regress_values = x * slope + intercept\n",
    "line_eq = \"y = \" + str(round(slope,2)) + \"x + \" + str(round(intercept,2))\n",
    "plt.scatter(x,y)\n",
    "plt.plot(x,regress_values,\"r-\")"
   ]
  },
  {
   "cell_type": "markdown",
   "metadata": {},
   "source": [
    "#### Latitude vs. Cloudiness Plot"
   ]
  },
  {
   "cell_type": "code",
   "execution_count": 83,
   "metadata": {},
   "outputs": [
    {
     "data": {
      "text/plain": [
       "[<matplotlib.lines.Line2D at 0x14de7317f48>]"
      ]
     },
     "execution_count": 83,
     "metadata": {},
     "output_type": "execute_result"
    },
    {
     "data": {
      "image/png": "[encoded data removed]",
      "text/plain": [
       "<Figure size 432x288 with 1 Axes>"
      ]
     },
     "metadata": {
      "needs_background": "light"
     },
     "output_type": "display_data"
    }
   ],
   "source": [
    "#plt.scatter(dfCities[\"Lat\"], dfCities[\"Cloudiness\"])\n",
    "x=dfCities[\"Lat\"]\n",
    "y=dfCities[\"Cloudiness\"]\n",
    "(slope, intercept, rvalue, pvalue, stderr) = linregress(x, y)\n",
    "regress_values = x * slope + intercept\n",
    "line_eq = \"y = \" + str(round(slope,2)) + \"x + \" + str(round(intercept,2))\n",
    "plt.scatter(x,y)\n",
    "plt.plot(x,regress_values,\"r-\")"
   ]
  },
  {
   "cell_type": "markdown",
   "metadata": {},
   "source": [
    "#### Latitude vs. Wind Speed Plot"
   ]
  },
  {
   "cell_type": "code",
   "execution_count": 84,
   "metadata": {},
   "outputs": [
    {
     "data": {
      "text/plain": [
       "[<matplotlib.lines.Line2D at 0x14de7382ec8>]"
      ]
     },
     "execution_count": 84,
     "metadata": {},
     "output_type": "execute_result"
    },
    {
     "data": {
      "image/png": "[encoded data removed]",
      "text/plain": [
       "<Figure size 432x288 with 1 Axes>"
      ]
     },
     "metadata": {
      "needs_background": "light"
     },
     "output_type": "display_data"
    }
   ],
   "source": [
    "#plt.scatter(dfCities[\"Lat\"], dfCities[\"WindSpeed\"])\n",
    "x=dfCities[\"Lat\"]\n",
    "y=dfCities[\"WindSpeed\"]\n",
    "(slope, intercept, rvalue, pvalue, stderr) = linregress(x, y)\n",
    "regress_values = x * slope + intercept\n",
    "line_eq = \"y = \" + str(round(slope,2)) + \"x + \" + str(round(intercept,2))\n",
    "plt.scatter(x,y)\n",
    "plt.plot(x,regress_values,\"r-\")"
   ]
  },
  {
   "cell_type": "markdown",
   "metadata": {},
   "source": [
    "## Linear Regression"
   ]
  },
  {
   "cell_type": "code",
   "execution_count": 108,
   "metadata": {},
   "outputs": [],
   "source": [
    "# OPTIONAL: Create a function to create Linear Regression plots\n"
   ]
  },
  {
   "cell_type": "code",
   "execution_count": 90,
   "metadata": {},
   "outputs": [
    {
     "data": {
      "text/html": [
       "<div>\n",
       "<style scoped>\n",
       "    .dataframe tbody tr th:only-of-type {\n",
       "        vertical-align: middle;\n",
       "    }\n",
       "\n",
       "    .dataframe tbody tr th {\n",
       "        vertical-align: top;\n",
       "    }\n",
       "\n",
       "    .dataframe thead th {\n",
       "        text-align: right;\n",
       "    }\n",
       "</style>\n",
       "<table border=\"1\" class=\"dataframe\">\n",
       "  <thead>\n",
       "    <tr style=\"text-align: right;\">\n",
       "      <th></th>\n",
       "      <th>City</th>\n",
       "      <th>Cloudiness</th>\n",
       "      <th>Country</th>\n",
       "      <th>Date</th>\n",
       "      <th>Humidity</th>\n",
       "      <th>Lat</th>\n",
       "      <th>Lng</th>\n",
       "      <th>Max Temp</th>\n",
       "      <th>WindSpeed</th>\n",
       "    </tr>\n",
       "  </thead>\n",
       "  <tbody>\n",
       "    <tr>\n",
       "      <td>2</td>\n",
       "      <td>saryg-sep</td>\n",
       "      <td>4</td>\n",
       "      <td>RU</td>\n",
       "      <td>1582751940</td>\n",
       "      <td>95</td>\n",
       "      <td>51.50</td>\n",
       "      <td>95.60</td>\n",
       "      <td>-5.800</td>\n",
       "      <td>1.13</td>\n",
       "    </tr>\n",
       "    <tr>\n",
       "      <td>4</td>\n",
       "      <td>kodiak</td>\n",
       "      <td>40</td>\n",
       "      <td>US</td>\n",
       "      <td>1582751940</td>\n",
       "      <td>74</td>\n",
       "      <td>57.79</td>\n",
       "      <td>-152.41</td>\n",
       "      <td>35.600</td>\n",
       "      <td>6.70</td>\n",
       "    </tr>\n",
       "    <tr>\n",
       "      <td>6</td>\n",
       "      <td>santiago de cuba</td>\n",
       "      <td>20</td>\n",
       "      <td>CU</td>\n",
       "      <td>1582751941</td>\n",
       "      <td>74</td>\n",
       "      <td>20.02</td>\n",
       "      <td>-75.82</td>\n",
       "      <td>84.200</td>\n",
       "      <td>3.10</td>\n",
       "    </tr>\n",
       "    <tr>\n",
       "      <td>8</td>\n",
       "      <td>yellowknife</td>\n",
       "      <td>90</td>\n",
       "      <td>CA</td>\n",
       "      <td>1582751708</td>\n",
       "      <td>77</td>\n",
       "      <td>62.46</td>\n",
       "      <td>-114.35</td>\n",
       "      <td>5.000</td>\n",
       "      <td>2.10</td>\n",
       "    </tr>\n",
       "    <tr>\n",
       "      <td>9</td>\n",
       "      <td>puerto escondido</td>\n",
       "      <td>5</td>\n",
       "      <td>MX</td>\n",
       "      <td>1582751941</td>\n",
       "      <td>79</td>\n",
       "      <td>15.85</td>\n",
       "      <td>-97.07</td>\n",
       "      <td>84.200</td>\n",
       "      <td>3.60</td>\n",
       "    </tr>\n",
       "    <tr>\n",
       "      <td>...</td>\n",
       "      <td>...</td>\n",
       "      <td>...</td>\n",
       "      <td>...</td>\n",
       "      <td>...</td>\n",
       "      <td>...</td>\n",
       "      <td>...</td>\n",
       "      <td>...</td>\n",
       "      <td>...</td>\n",
       "      <td>...</td>\n",
       "    </tr>\n",
       "    <tr>\n",
       "      <td>568</td>\n",
       "      <td>goderich</td>\n",
       "      <td>100</td>\n",
       "      <td>CA</td>\n",
       "      <td>1582752018</td>\n",
       "      <td>87</td>\n",
       "      <td>43.75</td>\n",
       "      <td>-81.72</td>\n",
       "      <td>28.004</td>\n",
       "      <td>2.24</td>\n",
       "    </tr>\n",
       "    <tr>\n",
       "      <td>569</td>\n",
       "      <td>powell river</td>\n",
       "      <td>90</td>\n",
       "      <td>CA</td>\n",
       "      <td>1582752018</td>\n",
       "      <td>87</td>\n",
       "      <td>49.85</td>\n",
       "      <td>-124.54</td>\n",
       "      <td>48.002</td>\n",
       "      <td>2.60</td>\n",
       "    </tr>\n",
       "    <tr>\n",
       "      <td>570</td>\n",
       "      <td>linfen</td>\n",
       "      <td>100</td>\n",
       "      <td>CN</td>\n",
       "      <td>1582752018</td>\n",
       "      <td>72</td>\n",
       "      <td>36.09</td>\n",
       "      <td>111.52</td>\n",
       "      <td>44.798</td>\n",
       "      <td>2.28</td>\n",
       "    </tr>\n",
       "    <tr>\n",
       "      <td>571</td>\n",
       "      <td>turayf</td>\n",
       "      <td>0</td>\n",
       "      <td>SA</td>\n",
       "      <td>1582752019</td>\n",
       "      <td>93</td>\n",
       "      <td>31.67</td>\n",
       "      <td>38.66</td>\n",
       "      <td>46.400</td>\n",
       "      <td>3.10</td>\n",
       "    </tr>\n",
       "    <tr>\n",
       "      <td>572</td>\n",
       "      <td>douentza</td>\n",
       "      <td>0</td>\n",
       "      <td>ML</td>\n",
       "      <td>1582752019</td>\n",
       "      <td>13</td>\n",
       "      <td>15.00</td>\n",
       "      <td>-2.95</td>\n",
       "      <td>72.518</td>\n",
       "      <td>2.40</td>\n",
       "    </tr>\n",
       "  </tbody>\n",
       "</table>\n",
       "<p>388 rows × 9 columns</p>\n",
       "</div>"
      ],
      "text/plain": [
       "                 City  Cloudiness Country        Date  Humidity    Lat  \\\n",
       "2           saryg-sep           4      RU  1582751940        95  51.50   \n",
       "4              kodiak          40      US  1582751940        74  57.79   \n",
       "6    santiago de cuba          20      CU  1582751941        74  20.02   \n",
       "8         yellowknife          90      CA  1582751708        77  62.46   \n",
       "9    puerto escondido           5      MX  1582751941        79  15.85   \n",
       "..                ...         ...     ...         ...       ...    ...   \n",
       "568          goderich         100      CA  1582752018        87  43.75   \n",
       "569      powell river          90      CA  1582752018        87  49.85   \n",
       "570            linfen         100      CN  1582752018        72  36.09   \n",
       "571            turayf           0      SA  1582752019        93  31.67   \n",
       "572          douentza           0      ML  1582752019        13  15.00   \n",
       "\n",
       "        Lng  Max Temp  WindSpeed  \n",
       "2     95.60    -5.800       1.13  \n",
       "4   -152.41    35.600       6.70  \n",
       "6    -75.82    84.200       3.10  \n",
       "8   -114.35     5.000       2.10  \n",
       "9    -97.07    84.200       3.60  \n",
       "..      ...       ...        ...  \n",
       "568  -81.72    28.004       2.24  \n",
       "569 -124.54    48.002       2.60  \n",
       "570  111.52    44.798       2.28  \n",
       "571   38.66    46.400       3.10  \n",
       "572   -2.95    72.518       2.40  \n",
       "\n",
       "[388 rows x 9 columns]"
      ]
     },
     "execution_count": 90,
     "metadata": {},
     "output_type": "execute_result"
    }
   ],
   "source": [
    "# Create Northern and Southern Hemisphere DataFrames\n",
    "Southern=dfCities[dfCities[\"Lat\"]<0]\n",
    "Northern=dfCities[dfCities[\"Lat\"]>=0]"
   ]
  },
  {
   "cell_type": "markdown",
   "metadata": {},
   "source": [
    "####  Northern Hemisphere - Max Temp vs. Latitude Linear Regression"
   ]
  },
  {
   "cell_type": "code",
   "execution_count": 92,
   "metadata": {},
   "outputs": [
    {
     "name": "stdout",
     "output_type": "stream",
     "text": [
      "The r-squared is: -1.35\n"
     ]
    },
    {
     "data": {
      "text/plain": [
       "[<matplotlib.lines.Line2D at 0x14de8564d08>]"
      ]
     },
     "execution_count": 92,
     "metadata": {},
     "output_type": "execute_result"
    },
    {
     "data": {
      "image/png": "[encoded data removed]",
      "text/plain": [
       "<Figure size 432x288 with 1 Axes>"
      ]
     },
     "metadata": {
      "needs_background": "light"
     },
     "output_type": "display_data"
    }
   ],
   "source": [
    "x=Northern[\"Lat\"]\n",
    "y=Northern[\"Max Temp\"]\n",
    "(slope, intercept, rvalue, pvalue, stderr) = linregress(x, y)\n",
    "regress_values = x * slope + intercept\n",
    "line_eq = \"y = \" + str(round(slope,2)) + \"x + \" + str(round(intercept,2))\n",
    "print(f\"The r-squared is: {str(round(slope,2))}\")\n",
    "plt.scatter(x,y)\n",
    "plt.plot(x,regress_values,\"r-\")"
   ]
  },
  {
   "cell_type": "markdown",
   "metadata": {},
   "source": [
    "####  Southern Hemisphere - Max Temp vs. Latitude Linear Regression"
   ]
  },
  {
   "cell_type": "code",
   "execution_count": 93,
   "metadata": {},
   "outputs": [
    {
     "name": "stdout",
     "output_type": "stream",
     "text": [
      "The r-squared is: 0.3\n"
     ]
    },
    {
     "data": {
      "text/plain": [
       "[<matplotlib.lines.Line2D at 0x14de85e9888>]"
      ]
     },
     "execution_count": 93,
     "metadata": {},
     "output_type": "execute_result"
    },
    {
     "data": {
      "image/png": "[encoded data removed]",
      "text/plain": [
       "<Figure size 432x288 with 1 Axes>"
      ]
     },
     "metadata": {
      "needs_background": "light"
     },
     "output_type": "display_data"
    }
   ],
   "source": [
    "x=Southern[\"Lat\"]\n",
    "y=Southern[\"Max Temp\"]\n",
    "(slope, intercept, rvalue, pvalue, stderr) = linregress(x, y)\n",
    "regress_values = x * slope + intercept\n",
    "line_eq = \"y = \" + str(round(slope,2)) + \"x + \" + str(round(intercept,2))\n",
    "print(f\"The r-squared is: {str(round(slope,2))}\")\n",
    "plt.scatter(x,y)\n",
    "plt.plot(x,regress_values,\"r-\")"
   ]
  },
  {
   "cell_type": "markdown",
   "metadata": {},
   "source": [
    "####  Northern Hemisphere - Humidity (%) vs. Latitude Linear Regression"
   ]
  },
  {
   "cell_type": "code",
   "execution_count": 94,
   "metadata": {},
   "outputs": [
    {
     "name": "stdout",
     "output_type": "stream",
     "text": [
      "The r-squared is: 0.48\n"
     ]
    },
    {
     "data": {
      "text/plain": [
       "[<matplotlib.lines.Line2D at 0x14de8644688>]"
      ]
     },
     "execution_count": 94,
     "metadata": {},
     "output_type": "execute_result"
    },
    {
     "data": {
      "image/png": "[encoded data removed]",
      "text/plain": [
       "<Figure size 432x288 with 1 Axes>"
      ]
     },
     "metadata": {
      "needs_background": "light"
     },
     "output_type": "display_data"
    }
   ],
   "source": [
    "x=Northern[\"Lat\"]\n",
    "y=Northern[\"Humidity\"]\n",
    "(slope, intercept, rvalue, pvalue, stderr) = linregress(x, y)\n",
    "regress_values = x * slope + intercept\n",
    "line_eq = \"y = \" + str(round(slope,2)) + \"x + \" + str(round(intercept,2))\n",
    "print(f\"The r-squared is: {str(round(slope,2))}\")\n",
    "plt.scatter(x,y)\n",
    "plt.plot(x,regress_values,\"r-\")"
   ]
  },
  {
   "cell_type": "markdown",
   "metadata": {},
   "source": [
    "####  Southern Hemisphere - Humidity (%) vs. Latitude Linear Regression"
   ]
  },
  {
   "cell_type": "code",
   "execution_count": 98,
   "metadata": {},
   "outputs": [
    {
     "name": "stdout",
     "output_type": "stream",
     "text": [
      "The r-squared is: 0.68\n"
     ]
    },
    {
     "data": {
      "text/plain": [
       "[<matplotlib.lines.Line2D at 0x14de87bd8c8>]"
      ]
     },
     "execution_count": 98,
     "metadata": {},
     "output_type": "execute_result"
    },
    {
     "data": {
      "image/png": "[encoded data removed]",
      "text/plain": [
       "<Figure size 432x288 with 1 Axes>"
      ]
     },
     "metadata": {
      "needs_background": "light"
     },
     "output_type": "display_data"
    }
   ],
   "source": [
    "x=Southern[\"Lat\"]\n",
    "y=Southern[\"Humidity\"]\n",
    "(slope, intercept, rvalue, pvalue, stderr) = linregress(x, y)\n",
    "regress_values = x * slope + intercept\n",
    "line_eq = \"y = \" + str(round(slope,2)) + \"x + \" + str(round(intercept,2))\n",
    "print(f\"The r-squared is: {str(round(slope,2))}\")\n",
    "plt.scatter(x,y)\n",
    "plt.plot(x,regress_values,\"r-\")"
   ]
  },
  {
   "cell_type": "markdown",
   "metadata": {},
   "source": [
    "####  Northern Hemisphere - Cloudiness (%) vs. Latitude Linear Regression"
   ]
  },
  {
   "cell_type": "code",
   "execution_count": 99,
   "metadata": {},
   "outputs": [
    {
     "name": "stdout",
     "output_type": "stream",
     "text": [
      "The r-squared is: 0.56\n"
     ]
    },
    {
     "data": {
      "text/plain": [
       "[<matplotlib.lines.Line2D at 0x14de883ea08>]"
      ]
     },
     "execution_count": 99,
     "metadata": {},
     "output_type": "execute_result"
    },
    {
     "data": {
      "image/png": "[encoded data removed]",
      "text/plain": [
       "<Figure size 432x288 with 1 Axes>"
      ]
     },
     "metadata": {
      "needs_background": "light"
     },
     "output_type": "display_data"
    }
   ],
   "source": [
    "x=Northern[\"Lat\"]\n",
    "y=Northern[\"Cloudiness\"]\n",
    "(slope, intercept, rvalue, pvalue, stderr) = linregress(x, y)\n",
    "regress_values = x * slope + intercept\n",
    "line_eq = \"y = \" + str(round(slope,2)) + \"x + \" + str(round(intercept,2))\n",
    "print(f\"The r-squared is: {str(round(slope,2))}\")\n",
    "plt.scatter(x,y)\n",
    "plt.plot(x,regress_values,\"r-\")"
   ]
  },
  {
   "cell_type": "markdown",
   "metadata": {},
   "source": [
    "####  Southern Hemisphere - Cloudiness (%) vs. Latitude Linear Regression"
   ]
  },
  {
   "cell_type": "code",
   "execution_count": 100,
   "metadata": {},
   "outputs": [
    {
     "name": "stdout",
     "output_type": "stream",
     "text": [
      "The r-squared is: 0.54\n"
     ]
    },
    {
     "data": {
      "text/plain": [
       "[<matplotlib.lines.Line2D at 0x14de8896248>]"
      ]
     },
     "execution_count": 100,
     "metadata": {},
     "output_type": "execute_result"
    },
    {
     "data": {
      "image/png": "[encoded data removed]",
      "text/plain": [
       "<Figure size 432x288 with 1 Axes>"
      ]
     },
     "metadata": {
      "needs_background": "light"
     },
     "output_type": "display_data"
    }
   ],
   "source": [
    "x=Southern[\"Lat\"]\n",
    "y=Southern[\"Cloudiness\"]\n",
    "(slope, intercept, rvalue, pvalue, stderr) = linregress(x, y)\n",
    "regress_values = x * slope + intercept\n",
    "line_eq = \"y = \" + str(round(slope,2)) + \"x + \" + str(round(intercept,2))\n",
    "print(f\"The r-squared is: {str(round(slope,2))}\")\n",
    "plt.scatter(x,y)\n",
    "plt.plot(x,regress_values,\"r-\")"
   ]
  },
  {
   "cell_type": "markdown",
   "metadata": {},
   "source": [
    "####  Northern Hemisphere - Wind Speed (mph) vs. Latitude Linear Regression"
   ]
  },
  {
   "cell_type": "code",
   "execution_count": 101,
   "metadata": {},
   "outputs": [
    {
     "name": "stdout",
     "output_type": "stream",
     "text": [
      "The r-squared is: 0.01\n"
     ]
    },
    {
     "data": {
      "text/plain": [
       "[<matplotlib.lines.Line2D at 0x14de890d488>]"
      ]
     },
     "execution_count": 101,
     "metadata": {},
     "output_type": "execute_result"
    },
    {
     "data": {
      "image/png": "[encoded data removed]",
      "text/plain": [
       "<Figure size 432x288 with 1 Axes>"
      ]
     },
     "metadata": {
      "needs_background": "light"
     },
     "output_type": "display_data"
    }
   ],
   "source": [
    "x=Northern[\"Lat\"]\n",
    "y=Northern[\"WindSpeed\"]\n",
    "(slope, intercept, rvalue, pvalue, stderr) = linregress(x, y)\n",
    "regress_values = x * slope + intercept\n",
    "line_eq = \"y = \" + str(round(slope,2)) + \"x + \" + str(round(intercept,2))\n",
    "print(f\"The r-squared is: {str(round(slope,2))}\")\n",
    "plt.scatter(x,y)\n",
    "plt.plot(x,regress_values,\"r-\")"
   ]
  },
  {
   "cell_type": "markdown",
   "metadata": {},
   "source": [
    "####  Southern Hemisphere - Wind Speed (mph) vs. Latitude Linear Regression"
   ]
  },
  {
   "cell_type": "code",
   "execution_count": 102,
   "metadata": {},
   "outputs": [
    {
     "name": "stdout",
     "output_type": "stream",
     "text": [
      "The r-squared is: -0.09\n"
     ]
    },
    {
     "data": {
      "text/plain": [
       "[<matplotlib.lines.Line2D at 0x14de89b9f88>]"
      ]
     },
     "execution_count": 102,
     "metadata": {},
     "output_type": "execute_result"
    },
    {
     "data": {
      "image/png": "[encoded data removed]",
      "text/plain": [
       "<Figure size 432x288 with 1 Axes>"
      ]
     },
     "metadata": {
      "needs_background": "light"
     },
     "output_type": "display_data"
    }
   ],
   "source": [
    "x=Southern[\"Lat\"]\n",
    "y=Southern[\"WindSpeed\"]\n",
    "(slope, intercept, rvalue, pvalue, stderr) = linregress(x, y)\n",
    "regress_values = x * slope + intercept\n",
    "line_eq = \"y = \" + str(round(slope,2)) + \"x + \" + str(round(intercept,2))\n",
    "print(f\"The r-squared is: {str(round(slope,2))}\")\n",
    "plt.scatter(x,y)\n",
    "plt.plot(x,regress_values,\"r-\")"
   ]
  },
  {
   "cell_type": "code",
   "execution_count": null,
   "metadata": {},
   "outputs": [],
   "source": []
  }
 ],
 "metadata": {
  "anaconda-cloud": {},
  "kernel_info": {
   "name": "python3"
  },
  "kernelspec": {
   "display_name": "Python 3",
   "language": "python",
   "name": "python3"
  },
  "language_info": {
   "codemirror_mode": {
    "name": "ipython",
    "version": 3
   },
   "file_extension": ".py",
   "mimetype": "text/x-python",
   "name": "python",
   "nbconvert_exporter": "python",
   "pygments_lexer": "ipython3",
   "version": "3.7.4"
  },
  "latex_envs": {
   "LaTeX_envs_menu_present": true,
   "autoclose": false,
   "autocomplete": true,
   "bibliofile": "biblio.bib",
   "cite_by": "apalike",
   "current_citInitial": 1,
   "eqLabelWithNumbers": true,
   "eqNumInitial": 1,
   "hotkeys": {
    "equation": "Ctrl-E",
    "itemize": "Ctrl-I"
   },
   "labels_anchors": false,
   "latex_user_defs": false,
   "report_style_numbering": false,
   "user_envs_cfg": false
  },
  "nteract": {
   "version": "0.12.3"
  }
 },
 "nbformat": 4,
 "nbformat_minor": 2
}
